{
 "cells": [
  {
   "cell_type": "code",
   "execution_count": null,
   "metadata": {},
   "outputs": [],
   "source": [
    "import gym\n",
    "import numpy as np\n",
    "import pandas as pd\n",
    "import torch\n",
    "from torch.autograd import Variable\n",
    "from collections import deque\n",
    "from ddpg import DDPGAgent\n",
    "from environment import StockTradingEnv"
   ]
  }
 ],
 "metadata": {
  "kernelspec": {
   "display_name": "STOCKTRADING",
   "language": "python",
   "name": "python3"
  },
  "language_info": {
   "name": "python",
   "version": "3.7.1"
  }
 },
 "nbformat": 4,
 "nbformat_minor": 2
}
